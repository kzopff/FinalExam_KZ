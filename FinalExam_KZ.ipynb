{
 "cells": [
  {
   "cell_type": "markdown",
   "metadata": {},
   "source": [
    "# Final Exam\n",
    "---\n",
    "**Author:** Katie Zopff  \n",
    "**Version:** 1.0  \n",
    "**Semester:** Fall 2020  \n",
    "\n",
    "This *notebook* contains my solution to the **Final Exam**\n"
   ]
  },
  {
   "cell_type": "code",
   "execution_count": 1,
   "metadata": {},
   "outputs": [],
   "source": [
    "import math\n",
    "from prettytable import PrettyTable\n",
    "import numpy as np"
   ]
  },
  {
   "cell_type": "code",
   "execution_count": 36,
   "metadata": {},
   "outputs": [],
   "source": [
    "pi = math.pi\n",
    "calculations = np.empty([0,4], str)"
   ]
  },
  {
   "cell_type": "code",
   "execution_count": 151,
   "metadata": {},
   "outputs": [],
   "source": [
    "def cylinderVolume(radius, height):\n",
    "    \"\"\"This function accepts values for radius and height, calculates the volume of a cylinder with those dimensions, and returns the volume.\"\"\"\n",
    "    volume = pi*((radius)**2)*height\n",
    "    return volume"
   ]
  },
  {
   "cell_type": "code",
   "execution_count": 152,
   "metadata": {},
   "outputs": [],
   "source": [
    "def cylinderSurface(radius, height):\n",
    "    \"\"\"This function accepts values for radius and height, calculates the surface area of a cylinder with those dimension, and returns the surface area.\"\"\"\n",
    "    surface = (2*pi*radius*height)+(2*pi*((radius)**2))\n",
    "    return surface"
   ]
  },
  {
   "cell_type": "code",
   "execution_count": 153,
   "metadata": {},
   "outputs": [],
   "source": [
    "def coneVolume(radius, height):\n",
    "    \"\"\"This function accepts values for radius and height, calculates the volume of a cone with those dimensions, and returns the volume.\"\"\"\n",
    "    volume = pi*((radius)**2)*(height/3)\n",
    "    return volume "
   ]
  },
  {
   "cell_type": "code",
   "execution_count": 154,
   "metadata": {},
   "outputs": [],
   "source": [
    "def coneSurface(radius, height):\n",
    "    \"\"\"This function accepts values for radius and height, calculates surface area of a cone with those dimensions, and returns the surface area.\"\"\"\n",
    "    surface = pi*radius*(radius + (((height**2)+(radius**2))**0.5))\n",
    "    return surface"
   ]
  },
  {
   "cell_type": "code",
   "execution_count": 155,
   "metadata": {},
   "outputs": [],
   "source": [
    "def display_menu():\n",
    "    \"\"\"This fucntion displays the menu of options for the user.\"\"\"\n",
    "    print('     Geometry Calculator')\n",
    "    print('=============================')\n",
    "    print('1. Calculate the volume of a cylinder\\n2. Calculate the surface area of a cyliner\\n3. Calculate the volume of a cone\\n4. Calculate the surface area of a cone\\n5. Print Table\\n6. Save Data')\n",
    "    return"
   ]
  },
  {
   "cell_type": "code",
   "execution_count": 174,
   "metadata": {},
   "outputs": [],
   "source": [
    "def print_table(data):\n",
    "    \"\"\"This function accepts an array of data and creates a table which displays that data.\"\"\"\n",
    "    y = PrettyTable()\n",
    "    y.field_names = ['Measurement', 'Radius', 'Height', 'Value']\n",
    "    shape = np.shape(data)\n",
    "    for i in range(shape[0]):\n",
    "        y.add_row([data[i][0], data[i][1], data[i][2], data[i][3]])\n",
    "    y.align['Measurement'] = 'r'\n",
    "    y.align['Value'] = 'r'\n",
    "    print(y)\n",
    "    return"
   ]
  },
  {
   "cell_type": "code",
   "execution_count": 157,
   "metadata": {},
   "outputs": [],
   "source": [
    "def save_data(data): \n",
    "    \"\"\"This function accepts an array of data, prompts the user for a desired filename, and saves the data from the array under that name.\"\"\"\n",
    "    filename = input('Enter the filename: ')\n",
    "    with open(filename, 'w') as output:\n",
    "        for row in data:\n",
    "            output.write(str(row) + '\\n')\n",
    "    return"
   ]
  },
  {
   "cell_type": "code",
   "execution_count": 175,
   "metadata": {},
   "outputs": [],
   "source": [
    "def main():\n",
    "    \"\"\"This function runs the main Geometry Calculator program.\"\"\"\n",
    "    print('Welcome to Geometry Calculator!')\n",
    "    display_menu()\n",
    "    calculations = np.empty((0,4), str)\n",
    "    x = input('Choose option (-1 to quit): ')\n",
    "    while x != '-1':\n",
    "        if x == '1':\n",
    "            print('\\n')\n",
    "            r = input('Enter the radius of the cylinder: ')\n",
    "            h = input('Enter the height of the cylinder: ')\n",
    "            print('\\n')\n",
    "            v = format(cylinderVolume(int(r), int(h)), '.2f')\n",
    "            print('The volume of the cylinder is', v, 'cubic units. \\n')\n",
    "            calculations = np.append(calculations, np.array([['Cylinder Volume', str(r), str(h), str(v)]]), axis = 0)\n",
    "        if x == '2':\n",
    "            print('\\n')\n",
    "            r = input('Enter the radius of the cylinder: ')\n",
    "            h = input('Enter the height of the cylinder: ')\n",
    "            print('\\n')\n",
    "            SA = format(cylinderSurface(int(r), int(h)), '.2f')\n",
    "            print('The surface area of the cylinder is', SA, 'square units. \\n')\n",
    "            calculations = np.append(calculations, np.array([['Cylinder Surface Area', str(r), str(h), str(SA)]]), axis = 0)\n",
    "        if x == '3':\n",
    "            print('\\n')\n",
    "                                \n",
    "            r = input('Enter the radius of the cone: ')\n",
    "            h = input('Enter the height of the cone: ')\n",
    "            print('\\n')\n",
    "            v = format(coneVolume(int(r), int(h)), '.2f')\n",
    "            print('The volume of the cone is', v, 'cubic units. \\n')\n",
    "            calculations = np.append(calculations, np.array([['Cone Volume', str(r), str(h), str(v)]]), axis = 0)\n",
    "        if x == '4':\n",
    "            print('\\n')\n",
    "            r = input('Enter the radius of the cone: ')\n",
    "            h = input('Enter the height of the cone: ')\n",
    "            print('\\n')\n",
    "            SA = format(coneSurface(int(r), int(h)), '.2f')\n",
    "            print('The surface area of the cone is', SA, 'square units. \\n')\n",
    "            calculations = np.append(calculations, np.array([['Cone Surface Area', str(r), str(h), str(SA)]]), axis = 0)\n",
    "        if x == '5':\n",
    "            print_table(calculations)\n",
    "        if x == '6':\n",
    "            save_data(calculations)\n",
    "        display_menu()\n",
    "        x = input('Choose an option (-1 to quit): ')\n",
    "    print('Thank you for using Geometry Calculator')\n",
    "    return"
   ]
  },
  {
   "cell_type": "code",
   "execution_count": 176,
   "metadata": {},
   "outputs": [
    {
     "name": "stdout",
     "output_type": "stream",
     "text": [
      "Welcome to Geometry Calculator!\n",
      "     Geometry Calculator\n",
      "=============================\n",
      "1. Calculate the volume of a cylinder\n",
      "2. Calculate the surface area of a cyliner\n",
      "3. Calculate the volume of a cone\n",
      "4. Calculate the surface area of a cone\n",
      "5. Print Table\n",
      "6. Save Data\n",
      "Choose option (-1 to quit): 1\n",
      "\n",
      "\n",
      "Enter the radius of the cylinder: 4\n",
      "Enter the height of the cylinder: 5\n",
      "\n",
      "\n",
      "The volume of the cylinder is 251.33 cubic units. \n",
      "\n",
      "     Geometry Calculator\n",
      "=============================\n",
      "1. Calculate the volume of a cylinder\n",
      "2. Calculate the surface area of a cyliner\n",
      "3. Calculate the volume of a cone\n",
      "4. Calculate the surface area of a cone\n",
      "5. Print Table\n",
      "6. Save Data\n",
      "Choose an option (-1 to quit): 2\n",
      "\n",
      "\n",
      "Enter the radius of the cylinder: 6\n",
      "Enter the height of the cylinder: 9\n",
      "\n",
      "\n",
      "The surface area of the cylinder is 565.49 square units. \n",
      "\n",
      "     Geometry Calculator\n",
      "=============================\n",
      "1. Calculate the volume of a cylinder\n",
      "2. Calculate the surface area of a cyliner\n",
      "3. Calculate the volume of a cone\n",
      "4. Calculate the surface area of a cone\n",
      "5. Print Table\n",
      "6. Save Data\n",
      "Choose an option (-1 to quit): 3\n",
      "\n",
      "\n",
      "Enter the radius of the cone: 3\n",
      "Enter the height of the cone: 8\n",
      "\n",
      "\n",
      "The volume of the cone is 75.40 cubic units. \n",
      "\n",
      "     Geometry Calculator\n",
      "=============================\n",
      "1. Calculate the volume of a cylinder\n",
      "2. Calculate the surface area of a cyliner\n",
      "3. Calculate the volume of a cone\n",
      "4. Calculate the surface area of a cone\n",
      "5. Print Table\n",
      "6. Save Data\n",
      "Choose an option (-1 to quit): 4\n",
      "\n",
      "\n",
      "Enter the radius of the cone: 4\n",
      "Enter the height of the cone: 9\n",
      "\n",
      "\n",
      "The surface area of the cone is 174.03 square units. \n",
      "\n",
      "     Geometry Calculator\n",
      "=============================\n",
      "1. Calculate the volume of a cylinder\n",
      "2. Calculate the surface area of a cyliner\n",
      "3. Calculate the volume of a cone\n",
      "4. Calculate the surface area of a cone\n",
      "5. Print Table\n",
      "6. Save Data\n",
      "Choose an option (-1 to quit): 5\n",
      "+-----------------------+--------+--------+--------+\n",
      "|           Measurement | Radius | Height |  Value |\n",
      "+-----------------------+--------+--------+--------+\n",
      "|       Cylinder Volume |   4    |   5    | 251.33 |\n",
      "| Cylinder Surface Area |   6    |   9    | 565.49 |\n",
      "|           Cone Volume |   3    |   8    |  75.40 |\n",
      "|     Cone Surface Area |   4    |   9    | 174.03 |\n",
      "+-----------------------+--------+--------+--------+\n",
      "     Geometry Calculator\n",
      "=============================\n",
      "1. Calculate the volume of a cylinder\n",
      "2. Calculate the surface area of a cyliner\n",
      "3. Calculate the volume of a cone\n",
      "4. Calculate the surface area of a cone\n",
      "5. Print Table\n",
      "6. Save Data\n",
      "Choose an option (-1 to quit): 6\n",
      "Enter the filename: output.txt\n",
      "     Geometry Calculator\n",
      "=============================\n",
      "1. Calculate the volume of a cylinder\n",
      "2. Calculate the surface area of a cyliner\n",
      "3. Calculate the volume of a cone\n",
      "4. Calculate the surface area of a cone\n",
      "5. Print Table\n",
      "6. Save Data\n",
      "Choose an option (-1 to quit): -1\n",
      "Thank you for using Geometry Calculator\n"
     ]
    }
   ],
   "source": [
    "main()"
   ]
  },
  {
   "cell_type": "code",
   "execution_count": null,
   "metadata": {},
   "outputs": [],
   "source": []
  }
 ],
 "metadata": {
  "kernelspec": {
   "display_name": "Python 3",
   "language": "python",
   "name": "python3"
  },
  "language_info": {
   "codemirror_mode": {
    "name": "ipython",
    "version": 3
   },
   "file_extension": ".py",
   "mimetype": "text/x-python",
   "name": "python",
   "nbconvert_exporter": "python",
   "pygments_lexer": "ipython3",
   "version": "3.8.3"
  }
 },
 "nbformat": 4,
 "nbformat_minor": 4
}
